{
 "cells": [
  {
   "cell_type": "code",
   "id": "initial_id",
   "metadata": {
    "collapsed": true,
    "ExecuteTime": {
     "end_time": "2025-10-31T16:13:33.696446Z",
     "start_time": "2025-10-31T16:13:33.573708Z"
    }
   },
   "source": "import numpy as np",
   "outputs": [],
   "execution_count": 1
  },
  {
   "metadata": {
    "ExecuteTime": {
     "end_time": "2025-10-31T16:14:53.498186Z",
     "start_time": "2025-10-31T16:14:53.488926Z"
    }
   },
   "cell_type": "code",
   "source": [
    "mylist = [25, 78, 7]\n",
    "type(mylist)"
   ],
   "id": "4d29d62bc38441ad",
   "outputs": [
    {
     "data": {
      "text/plain": [
       "list"
      ]
     },
     "execution_count": 2,
     "metadata": {},
     "output_type": "execute_result"
    }
   ],
   "execution_count": 2
  },
  {
   "metadata": {
    "ExecuteTime": {
     "end_time": "2025-10-31T16:15:14.051674Z",
     "start_time": "2025-10-31T16:15:14.041313Z"
    }
   },
   "cell_type": "code",
   "source": "np.array(mylist)",
   "id": "e62fec100344e5cc",
   "outputs": [
    {
     "data": {
      "text/plain": [
       "array([25, 78,  7])"
      ]
     },
     "execution_count": 3,
     "metadata": {},
     "output_type": "execute_result"
    }
   ],
   "execution_count": 3
  },
  {
   "metadata": {
    "ExecuteTime": {
     "end_time": "2025-10-31T16:15:43.426466Z",
     "start_time": "2025-10-31T16:15:43.421918Z"
    }
   },
   "cell_type": "code",
   "source": "my_array = np.array(mylist)",
   "id": "d93613a8c4d1b514",
   "outputs": [],
   "execution_count": 4
  },
  {
   "metadata": {
    "ExecuteTime": {
     "end_time": "2025-10-31T16:16:01.039084Z",
     "start_time": "2025-10-31T16:16:01.032662Z"
    }
   },
   "cell_type": "code",
   "source": "type(my_array)",
   "id": "e579359718a239c1",
   "outputs": [
    {
     "data": {
      "text/plain": [
       "numpy.ndarray"
      ]
     },
     "execution_count": 6,
     "metadata": {},
     "output_type": "execute_result"
    }
   ],
   "execution_count": 6
  },
  {
   "metadata": {
    "ExecuteTime": {
     "end_time": "2025-10-31T16:17:21.502467Z",
     "start_time": "2025-10-31T16:17:21.494981Z"
    }
   },
   "cell_type": "code",
   "source": [
    "my_matrix = [[25, 96, 20],[56, 98, 45],[36, 77, 91]]\n",
    "type(my_matrix)"
   ],
   "id": "5f4aca4c7b9bb8b8",
   "outputs": [
    {
     "data": {
      "text/plain": [
       "list"
      ]
     },
     "execution_count": 7,
     "metadata": {},
     "output_type": "execute_result"
    }
   ],
   "execution_count": 7
  },
  {
   "metadata": {
    "ExecuteTime": {
     "end_time": "2025-10-31T16:17:57.974549Z",
     "start_time": "2025-10-31T16:17:57.967793Z"
    }
   },
   "cell_type": "code",
   "source": "np.arange(0, 20)",
   "id": "4c012b10b41ddd85",
   "outputs": [
    {
     "data": {
      "text/plain": [
       "array([ 0,  1,  2,  3,  4,  5,  6,  7,  8,  9, 10, 11, 12, 13, 14, 15, 16,\n",
       "       17, 18, 19])"
      ]
     },
     "execution_count": 8,
     "metadata": {},
     "output_type": "execute_result"
    }
   ],
   "execution_count": 8
  },
  {
   "metadata": {
    "ExecuteTime": {
     "end_time": "2025-10-31T16:20:26.873580Z",
     "start_time": "2025-10-31T16:20:26.866975Z"
    }
   },
   "cell_type": "code",
   "source": "print(np.array(my_matrix))\n",
   "id": "8f70d1f50ed7b288",
   "outputs": [
    {
     "name": "stdout",
     "output_type": "stream",
     "text": [
      "[[25 96 20]\n",
      " [56 98 45]\n",
      " [36 77 91]]\n"
     ]
    }
   ],
   "execution_count": 13
  },
  {
   "metadata": {
    "ExecuteTime": {
     "end_time": "2025-10-31T16:20:41.914104Z",
     "start_time": "2025-10-31T16:20:41.909578Z"
    }
   },
   "cell_type": "code",
   "source": "print(my_matrix)",
   "id": "b896c1282ee0aed6",
   "outputs": [
    {
     "name": "stdout",
     "output_type": "stream",
     "text": [
      "[[25, 96, 20], [56, 98, 45], [36, 77, 91]]\n"
     ]
    }
   ],
   "execution_count": 14
  },
  {
   "metadata": {
    "ExecuteTime": {
     "end_time": "2025-10-31T16:21:28.492201Z",
     "start_time": "2025-10-31T16:21:28.483298Z"
    }
   },
   "cell_type": "code",
   "source": "np.arange(0, 20, 2)",
   "id": "19f31b6931834742",
   "outputs": [
    {
     "data": {
      "text/plain": [
       "array([ 0,  2,  4,  6,  8, 10, 12, 14, 16, 18])"
      ]
     },
     "execution_count": 15,
     "metadata": {},
     "output_type": "execute_result"
    }
   ],
   "execution_count": 15
  },
  {
   "metadata": {
    "ExecuteTime": {
     "end_time": "2025-10-31T16:22:06.456605Z",
     "start_time": "2025-10-31T16:22:06.448407Z"
    }
   },
   "cell_type": "code",
   "source": "np.zeros(6)",
   "id": "92d82bf3b6513102",
   "outputs": [
    {
     "data": {
      "text/plain": [
       "array([0., 0., 0., 0., 0., 0.])"
      ]
     },
     "execution_count": 16,
     "metadata": {},
     "output_type": "execute_result"
    }
   ],
   "execution_count": 16
  },
  {
   "metadata": {
    "ExecuteTime": {
     "end_time": "2025-10-31T16:22:35.429362Z",
     "start_time": "2025-10-31T16:22:35.424809Z"
    }
   },
   "cell_type": "code",
   "source": "arr = np.zeros((5, 6))",
   "id": "ea6223e7421ac998",
   "outputs": [],
   "execution_count": 18
  },
  {
   "metadata": {
    "ExecuteTime": {
     "end_time": "2025-10-31T16:22:40.176343Z",
     "start_time": "2025-10-31T16:22:40.169343Z"
    }
   },
   "cell_type": "code",
   "source": "print(arr)",
   "id": "93d4e9bf800ccc3d",
   "outputs": [
    {
     "name": "stdout",
     "output_type": "stream",
     "text": [
      "[[0. 0. 0. 0. 0. 0.]\n",
      " [0. 0. 0. 0. 0. 0.]\n",
      " [0. 0. 0. 0. 0. 0.]\n",
      " [0. 0. 0. 0. 0. 0.]\n",
      " [0. 0. 0. 0. 0. 0.]]\n"
     ]
    }
   ],
   "execution_count": 19
  },
  {
   "metadata": {
    "ExecuteTime": {
     "end_time": "2025-10-31T16:23:14.876363Z",
     "start_time": "2025-10-31T16:23:14.869836Z"
    }
   },
   "cell_type": "code",
   "source": [
    "arr2 = np.ones((5, 6))\n",
    "print(arr2)"
   ],
   "id": "d83eccfd79e6fab4",
   "outputs": [
    {
     "name": "stdout",
     "output_type": "stream",
     "text": [
      "[[1. 1. 1. 1. 1. 1.]\n",
      " [1. 1. 1. 1. 1. 1.]\n",
      " [1. 1. 1. 1. 1. 1.]\n",
      " [1. 1. 1. 1. 1. 1.]\n",
      " [1. 1. 1. 1. 1. 1.]]\n"
     ]
    }
   ],
   "execution_count": 20
  },
  {
   "metadata": {
    "ExecuteTime": {
     "end_time": "2025-10-31T17:00:04.294932Z",
     "start_time": "2025-10-31T17:00:04.284826Z"
    }
   },
   "cell_type": "code",
   "source": "np.linspace(0, 10, 3)",
   "id": "c44858e3e24d5dcd",
   "outputs": [
    {
     "data": {
      "text/plain": [
       "array([ 0.,  5., 10.])"
      ]
     },
     "execution_count": 27,
     "metadata": {},
     "output_type": "execute_result"
    }
   ],
   "execution_count": 27
  },
  {
   "metadata": {
    "ExecuteTime": {
     "end_time": "2025-10-31T17:00:32.271429Z",
     "start_time": "2025-10-31T17:00:32.262909Z"
    }
   },
   "cell_type": "code",
   "source": "np.linspace(0, 10, 10)",
   "id": "79cbdf7e4154b36a",
   "outputs": [
    {
     "data": {
      "text/plain": [
       "array([ 0.        ,  1.11111111,  2.22222222,  3.33333333,  4.44444444,\n",
       "        5.55555556,  6.66666667,  7.77777778,  8.88888889, 10.        ])"
      ]
     },
     "execution_count": 28,
     "metadata": {},
     "output_type": "execute_result"
    }
   ],
   "execution_count": 28
  },
  {
   "metadata": {
    "ExecuteTime": {
     "end_time": "2025-10-31T17:01:57.009439Z",
     "start_time": "2025-10-31T17:01:57.002828Z"
    }
   },
   "cell_type": "code",
   "source": "print(np.eye(5))",
   "id": "5e73bc96427c4348",
   "outputs": [
    {
     "name": "stdout",
     "output_type": "stream",
     "text": [
      "[[1. 0. 0. 0. 0.]\n",
      " [0. 1. 0. 0. 0.]\n",
      " [0. 0. 1. 0. 0.]\n",
      " [0. 0. 0. 1. 0.]\n",
      " [0. 0. 0. 0. 1.]]\n"
     ]
    }
   ],
   "execution_count": 30
  },
  {
   "metadata": {
    "ExecuteTime": {
     "end_time": "2025-10-31T17:03:06.009110Z",
     "start_time": "2025-10-31T17:03:06.004184Z"
    }
   },
   "cell_type": "code",
   "source": "print(np.eye(5, k=1))",
   "id": "10ed9e31227eb0b2",
   "outputs": [
    {
     "name": "stdout",
     "output_type": "stream",
     "text": [
      "[[0. 1. 0. 0. 0.]\n",
      " [0. 0. 1. 0. 0.]\n",
      " [0. 0. 0. 1. 0.]\n",
      " [0. 0. 0. 0. 1.]\n",
      " [0. 0. 0. 0. 0.]]\n"
     ]
    }
   ],
   "execution_count": 33
  },
  {
   "metadata": {
    "ExecuteTime": {
     "end_time": "2025-10-31T17:04:09.804670Z",
     "start_time": "2025-10-31T17:04:09.797067Z"
    }
   },
   "cell_type": "code",
   "source": "np.random.rand(5)",
   "id": "6b6518416a421491",
   "outputs": [
    {
     "data": {
      "text/plain": [
       "array([0.29758019, 0.12646099, 0.14413257, 0.28329175, 0.63691713])"
      ]
     },
     "execution_count": 35,
     "metadata": {},
     "output_type": "execute_result"
    }
   ],
   "execution_count": 35
  },
  {
   "metadata": {
    "ExecuteTime": {
     "end_time": "2025-10-31T17:04:21.671634Z",
     "start_time": "2025-10-31T17:04:21.665750Z"
    }
   },
   "cell_type": "code",
   "source": "print(np.random.rand(5, 5))",
   "id": "6e71c04dd5433317",
   "outputs": [
    {
     "name": "stdout",
     "output_type": "stream",
     "text": [
      "[[0.39681135 0.53015856 0.03228786 0.47502752 0.74857613]\n",
      " [0.47642933 0.48075136 0.90370744 0.57838982 0.92043459]\n",
      " [0.57392612 0.85638925 0.21002367 0.04109572 0.98936952]\n",
      " [0.32535566 0.88397097 0.29655444 0.9524884  0.90959698]\n",
      " [0.65021858 0.68817083 0.85756501 0.05766617 0.30328324]]\n"
     ]
    }
   ],
   "execution_count": 36
  },
  {
   "metadata": {
    "ExecuteTime": {
     "end_time": "2025-10-31T17:05:04.089885Z",
     "start_time": "2025-10-31T17:05:04.083483Z"
    }
   },
   "cell_type": "code",
   "source": "np.random.randn(5)",
   "id": "8a66fa055ea62b30",
   "outputs": [
    {
     "data": {
      "text/plain": [
       "array([ 1.62501772,  0.25161702, -1.04522442,  1.54261866, -0.35013364])"
      ]
     },
     "execution_count": 37,
     "metadata": {},
     "output_type": "execute_result"
    }
   ],
   "execution_count": 37
  },
  {
   "metadata": {
    "ExecuteTime": {
     "end_time": "2025-10-31T17:06:06.386147Z",
     "start_time": "2025-10-31T17:06:06.378578Z"
    }
   },
   "cell_type": "code",
   "source": "np.random.randint(5, 15, 5)",
   "id": "168acdb91a359e8",
   "outputs": [
    {
     "data": {
      "text/plain": [
       "array([13,  8, 10, 13,  5], dtype=int32)"
      ]
     },
     "execution_count": 40,
     "metadata": {},
     "output_type": "execute_result"
    }
   ],
   "execution_count": 40
  },
  {
   "metadata": {
    "ExecuteTime": {
     "end_time": "2025-10-31T17:06:44.085666Z",
     "start_time": "2025-10-31T17:06:44.079569Z"
    }
   },
   "cell_type": "code",
   "source": "print(np.random.randint(5, 15, (5, 5)))",
   "id": "6cbd609613cd2a71",
   "outputs": [
    {
     "name": "stdout",
     "output_type": "stream",
     "text": [
      "[[ 7 13 11  9  9]\n",
      " [ 6 11 12 14  9]\n",
      " [14 12  5 10 11]\n",
      " [ 8 12  6 14 13]\n",
      " [14 14 13  5  6]]\n"
     ]
    }
   ],
   "execution_count": 42
  },
  {
   "metadata": {
    "ExecuteTime": {
     "end_time": "2025-10-31T17:12:50.897497Z",
     "start_time": "2025-10-31T17:12:50.889495Z"
    }
   },
   "cell_type": "code",
   "source": [
    "np.random.seed(42)\n",
    "np.random.rand(5)"
   ],
   "id": "2fca8f60de0e334d",
   "outputs": [
    {
     "data": {
      "text/plain": [
       "array([0.37454012, 0.95071431, 0.73199394, 0.59865848, 0.15601864])"
      ]
     },
     "execution_count": 46,
     "metadata": {},
     "output_type": "execute_result"
    }
   ],
   "execution_count": 46
  },
  {
   "metadata": {
    "ExecuteTime": {
     "end_time": "2025-10-31T17:14:51.172882Z",
     "start_time": "2025-10-31T17:14:51.165993Z"
    }
   },
   "cell_type": "code",
   "source": [
    "arr = np.arange(0, 25)\n",
    "arr"
   ],
   "id": "e1f778710b07795e",
   "outputs": [
    {
     "data": {
      "text/plain": [
       "array([ 0,  1,  2,  3,  4,  5,  6,  7,  8,  9, 10, 11, 12, 13, 14, 15, 16,\n",
       "       17, 18, 19, 20, 21, 22, 23, 24])"
      ]
     },
     "execution_count": 52,
     "metadata": {},
     "output_type": "execute_result"
    }
   ],
   "execution_count": 52
  },
  {
   "metadata": {
    "ExecuteTime": {
     "end_time": "2025-10-31T17:14:53.331816Z",
     "start_time": "2025-10-31T17:14:53.325031Z"
    }
   },
   "cell_type": "code",
   "source": [
    "arr = arr.reshape(5, 5)\n",
    "print(arr)"
   ],
   "id": "41a8b22e144f2617",
   "outputs": [
    {
     "name": "stdout",
     "output_type": "stream",
     "text": [
      "[[ 0  1  2  3  4]\n",
      " [ 5  6  7  8  9]\n",
      " [10 11 12 13 14]\n",
      " [15 16 17 18 19]\n",
      " [20 21 22 23 24]]\n"
     ]
    }
   ],
   "execution_count": 53
  },
  {
   "metadata": {
    "ExecuteTime": {
     "end_time": "2025-10-31T17:15:59.698331Z",
     "start_time": "2025-10-31T17:15:59.692306Z"
    }
   },
   "cell_type": "code",
   "source": "rand_arr = np.random.randint(0, 500, 20)",
   "id": "623093e0596adf09",
   "outputs": [],
   "execution_count": 54
  },
  {
   "metadata": {
    "ExecuteTime": {
     "end_time": "2025-10-31T17:16:02.613720Z",
     "start_time": "2025-10-31T17:16:02.607198Z"
    }
   },
   "cell_type": "code",
   "source": "rand_arr",
   "id": "3a3f0fad4c6a3876",
   "outputs": [
    {
     "data": {
      "text/plain": [
       "array([466, 214, 330, 458,  87, 372,  99, 359, 151, 130, 149, 308, 257,\n",
       "       343, 491, 413, 293, 385, 191, 443], dtype=int32)"
      ]
     },
     "execution_count": 55,
     "metadata": {},
     "output_type": "execute_result"
    }
   ],
   "execution_count": 55
  },
  {
   "metadata": {
    "ExecuteTime": {
     "end_time": "2025-10-31T17:16:34.121142Z",
     "start_time": "2025-10-31T17:16:34.114137Z"
    }
   },
   "cell_type": "code",
   "source": "rand_arr.max()",
   "id": "667e8ec80f085a10",
   "outputs": [
    {
     "data": {
      "text/plain": [
       "np.int32(491)"
      ]
     },
     "execution_count": 56,
     "metadata": {},
     "output_type": "execute_result"
    }
   ],
   "execution_count": 56
  },
  {
   "metadata": {
    "ExecuteTime": {
     "end_time": "2025-10-31T17:16:46.217504Z",
     "start_time": "2025-10-31T17:16:46.211048Z"
    }
   },
   "cell_type": "code",
   "source": "rand_arr.min()",
   "id": "7eae1826dc6f2bd2",
   "outputs": [
    {
     "data": {
      "text/plain": [
       "np.int32(87)"
      ]
     },
     "execution_count": 57,
     "metadata": {},
     "output_type": "execute_result"
    }
   ],
   "execution_count": 57
  },
  {
   "metadata": {
    "ExecuteTime": {
     "end_time": "2025-10-31T17:17:00.113472Z",
     "start_time": "2025-10-31T17:17:00.106442Z"
    }
   },
   "cell_type": "code",
   "source": "rand_arr.argmax()",
   "id": "7bac9c79c21eb836",
   "outputs": [
    {
     "data": {
      "text/plain": [
       "np.int64(14)"
      ]
     },
     "execution_count": 58,
     "metadata": {},
     "output_type": "execute_result"
    }
   ],
   "execution_count": 58
  },
  {
   "metadata": {
    "ExecuteTime": {
     "end_time": "2025-10-31T17:17:11.632365Z",
     "start_time": "2025-10-31T17:17:11.624822Z"
    }
   },
   "cell_type": "code",
   "source": "rand_arr.argmin()",
   "id": "9a75f1227a825764",
   "outputs": [
    {
     "data": {
      "text/plain": [
       "np.int64(4)"
      ]
     },
     "execution_count": 59,
     "metadata": {},
     "output_type": "execute_result"
    }
   ],
   "execution_count": 59
  },
  {
   "metadata": {
    "ExecuteTime": {
     "end_time": "2025-10-31T17:17:27.484496Z",
     "start_time": "2025-10-31T17:17:27.476402Z"
    }
   },
   "cell_type": "code",
   "source": "rand_arr.dtype",
   "id": "e134c09a99e23267",
   "outputs": [
    {
     "data": {
      "text/plain": [
       "dtype('int32')"
      ]
     },
     "execution_count": 60,
     "metadata": {},
     "output_type": "execute_result"
    }
   ],
   "execution_count": 60
  },
  {
   "metadata": {},
   "cell_type": "code",
   "outputs": [],
   "execution_count": null,
   "source": "",
   "id": "7e746c3c447771c0"
  }
 ],
 "metadata": {
  "kernelspec": {
   "display_name": "Python 3",
   "language": "python",
   "name": "python3"
  },
  "language_info": {
   "codemirror_mode": {
    "name": "ipython",
    "version": 2
   },
   "file_extension": ".py",
   "mimetype": "text/x-python",
   "name": "python",
   "nbconvert_exporter": "python",
   "pygments_lexer": "ipython2",
   "version": "2.7.6"
  }
 },
 "nbformat": 4,
 "nbformat_minor": 5
}
