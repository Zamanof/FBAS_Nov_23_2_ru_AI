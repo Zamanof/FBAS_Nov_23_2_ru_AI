{
 "cells": [
  {
   "cell_type": "markdown",
   "id": "c25441c9e176cd5a",
   "metadata": {},
   "source": [
    "# Header 1\n",
    "## Header 2\n",
    "### Header 3\n",
    "#### Header 4\n",
    "##### Header 5\n",
    "###### Header 6\n"
   ]
  },
  {
   "cell_type": "markdown",
   "id": "a4ebed5ab409a12c",
   "metadata": {},
   "source": [
    "**Bold text**\n",
    "*Italic text*\n",
    "~Зачеркнутый текст~\n",
    "`Code or command`"
   ]
  },
  {
   "metadata": {},
   "cell_type": "markdown",
   "source": [
    "1. First\n",
    "2. Second\n",
    "3. Third"
   ],
   "id": "170deb25f8c3d78f"
  },
  {
   "metadata": {},
   "cell_type": "markdown",
   "source": [
    "- First Element\n",
    "- Second Element\n",
    "    - Sub element\n",
    "        - Sub Sub Element"
   ],
   "id": "5c58995c3f14c5b7"
  },
  {
   "metadata": {},
   "cell_type": "markdown",
   "source": "> Eto sitata ili vajniy text",
   "id": "ae27cf133bba9eb4"
  },
  {
   "metadata": {},
   "cell_type": "markdown",
   "source": [
    "```python\n",
    "print(\"Some code\")\n",
    "a = 65\n",
    "b = 22\n",
    "c = a + b"
   ],
   "id": "b5f243c0cd5bc672"
  },
  {
   "metadata": {},
   "cell_type": "markdown",
   "source": [
    "| Names   | Ages |\n",
    "|---------|------|\n",
    "|Nadir    |45    |\n",
    "|Nadir    |45    |\n",
    "|Nadir    |45    |\n",
    "|Nadir    |45    |"
   ],
   "id": "afa1db5de5d0ba93"
  },
  {
   "metadata": {},
   "cell_type": "markdown",
   "source": [
    "[Open timeofcode.dev](https://timeofcode.dev/)\n",
    "![timeofcode](https://timeofcode.dev/TOC.svg)"
   ],
   "id": "150adc7511f4bf9"
  },
  {
   "metadata": {},
   "cell_type": "markdown",
   "source": [
    "Formulas:  $E = mc^2$\n",
    "\n",
    "$$\n",
    "\\sigma = \\sqrt{\\frac{1}{N}}\\sum_{i=1}^{n}(x_i - \\mu)^3\n",
    "$$"
   ],
   "id": "d899e7d5d8bd8e5a"
  },
  {
   "metadata": {},
   "cell_type": "markdown",
   "source": [
    "<p style=\"color:pink; font-size:145px;\">Giant Pink Text</p>\n",
    "<p align=\"center\">\n",
    "<b><u><i>Salam popolam</i></u></b>\n",
    "</p>"
   ],
   "id": "24470edebf87663a"
  },
  {
   "metadata": {},
   "cell_type": "markdown",
   "source": "",
   "id": "244a813bfc62c20d"
  },
  {
   "metadata": {},
   "cell_type": "markdown",
   "source": "",
   "id": "6c27d687cbc47f90"
  }
 ],
 "metadata": {
  "kernelspec": {
   "display_name": "Python 3 (ipykernel)",
   "language": "python",
   "name": "python3"
  },
  "language_info": {
   "codemirror_mode": {
    "name": "ipython",
    "version": 3
   },
   "file_extension": ".py",
   "mimetype": "text/x-python",
   "name": "python",
   "nbconvert_exporter": "python",
   "pygments_lexer": "ipython3",
   "version": "3.12.8"
  }
 },
 "nbformat": 4,
 "nbformat_minor": 5
}
