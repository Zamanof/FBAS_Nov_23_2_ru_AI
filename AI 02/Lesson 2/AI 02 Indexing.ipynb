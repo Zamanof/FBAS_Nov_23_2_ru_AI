{
 "cells": [
  {
   "cell_type": "code",
   "id": "initial_id",
   "metadata": {
    "collapsed": true,
    "ExecuteTime": {
     "end_time": "2025-10-31T17:30:19.923868Z",
     "start_time": "2025-10-31T17:30:19.919352Z"
    }
   },
   "source": "import numpy as np",
   "outputs": [],
   "execution_count": 37
  },
  {
   "metadata": {
    "ExecuteTime": {
     "end_time": "2025-10-31T17:30:19.961056Z",
     "start_time": "2025-10-31T17:30:19.956023Z"
    }
   },
   "cell_type": "code",
   "source": "arr = np.arange(11)",
   "id": "d9f1a9ae335ddf58",
   "outputs": [],
   "execution_count": 38
  },
  {
   "metadata": {
    "ExecuteTime": {
     "end_time": "2025-10-31T17:30:19.979225Z",
     "start_time": "2025-10-31T17:30:19.971647Z"
    }
   },
   "cell_type": "code",
   "source": "arr",
   "id": "c9c1132fedc7c6cc",
   "outputs": [
    {
     "data": {
      "text/plain": [
       "array([ 0,  1,  2,  3,  4,  5,  6,  7,  8,  9, 10])"
      ]
     },
     "execution_count": 39,
     "metadata": {},
     "output_type": "execute_result"
    }
   ],
   "execution_count": 39
  },
  {
   "metadata": {
    "ExecuteTime": {
     "end_time": "2025-10-31T17:30:20.046537Z",
     "start_time": "2025-10-31T17:30:20.038518Z"
    }
   },
   "cell_type": "code",
   "source": "arr[5]",
   "id": "5b22f7d70266904e",
   "outputs": [
    {
     "data": {
      "text/plain": [
       "np.int64(5)"
      ]
     },
     "execution_count": 40,
     "metadata": {},
     "output_type": "execute_result"
    }
   ],
   "execution_count": 40
  },
  {
   "metadata": {
    "ExecuteTime": {
     "end_time": "2025-10-31T17:30:20.102187Z",
     "start_time": "2025-10-31T17:30:20.095648Z"
    }
   },
   "cell_type": "code",
   "source": "arr[0:6]",
   "id": "f04dfa6dc4cccfb6",
   "outputs": [
    {
     "data": {
      "text/plain": [
       "array([0, 1, 2, 3, 4, 5])"
      ]
     },
     "execution_count": 41,
     "metadata": {},
     "output_type": "execute_result"
    }
   ],
   "execution_count": 41
  },
  {
   "metadata": {
    "ExecuteTime": {
     "end_time": "2025-10-31T17:30:20.179424Z",
     "start_time": "2025-10-31T17:30:20.171623Z"
    }
   },
   "cell_type": "code",
   "source": "arr[0:6:2]",
   "id": "881ed6ef245438ae",
   "outputs": [
    {
     "data": {
      "text/plain": [
       "array([0, 2, 4])"
      ]
     },
     "execution_count": 42,
     "metadata": {},
     "output_type": "execute_result"
    }
   ],
   "execution_count": 42
  },
  {
   "metadata": {
    "ExecuteTime": {
     "end_time": "2025-10-31T17:30:20.254959Z",
     "start_time": "2025-10-31T17:30:20.245893Z"
    }
   },
   "cell_type": "code",
   "source": "arr[2:]",
   "id": "9eb4f50b4c5f9795",
   "outputs": [
    {
     "data": {
      "text/plain": [
       "array([ 2,  3,  4,  5,  6,  7,  8,  9, 10])"
      ]
     },
     "execution_count": 43,
     "metadata": {},
     "output_type": "execute_result"
    }
   ],
   "execution_count": 43
  },
  {
   "metadata": {
    "ExecuteTime": {
     "end_time": "2025-10-31T17:30:20.299005Z",
     "start_time": "2025-10-31T17:30:20.291468Z"
    }
   },
   "cell_type": "code",
   "source": "arr[:9]",
   "id": "6519c05a90109ef8",
   "outputs": [
    {
     "data": {
      "text/plain": [
       "array([0, 1, 2, 3, 4, 5, 6, 7, 8])"
      ]
     },
     "execution_count": 44,
     "metadata": {},
     "output_type": "execute_result"
    }
   ],
   "execution_count": 44
  },
  {
   "metadata": {
    "ExecuteTime": {
     "end_time": "2025-10-31T17:30:20.364101Z",
     "start_time": "2025-10-31T17:30:20.356578Z"
    }
   },
   "cell_type": "code",
   "source": "arr[::-1]",
   "id": "9acad24cb98d7751",
   "outputs": [
    {
     "data": {
      "text/plain": [
       "array([10,  9,  8,  7,  6,  5,  4,  3,  2,  1,  0])"
      ]
     },
     "execution_count": 45,
     "metadata": {},
     "output_type": "execute_result"
    }
   ],
   "execution_count": 45
  },
  {
   "metadata": {
    "ExecuteTime": {
     "end_time": "2025-10-31T17:30:20.495997Z",
     "start_time": "2025-10-31T17:30:20.488501Z"
    }
   },
   "cell_type": "code",
   "source": [
    "arr[:4] = 21\n",
    "arr"
   ],
   "id": "e20d4387accafe57",
   "outputs": [
    {
     "data": {
      "text/plain": [
       "array([21, 21, 21, 21,  4,  5,  6,  7,  8,  9, 10])"
      ]
     },
     "execution_count": 46,
     "metadata": {},
     "output_type": "execute_result"
    }
   ],
   "execution_count": 46
  },
  {
   "metadata": {
    "ExecuteTime": {
     "end_time": "2025-10-31T17:30:20.631689Z",
     "start_time": "2025-10-31T17:30:20.623140Z"
    }
   },
   "cell_type": "code",
   "source": [
    "slice_arr = arr[4:7]\n",
    "\n",
    "slice_arr"
   ],
   "id": "4a288c0b55838ffe",
   "outputs": [
    {
     "data": {
      "text/plain": [
       "array([4, 5, 6])"
      ]
     },
     "execution_count": 47,
     "metadata": {},
     "output_type": "execute_result"
    }
   ],
   "execution_count": 47
  },
  {
   "metadata": {
    "ExecuteTime": {
     "end_time": "2025-10-31T17:30:20.758137Z",
     "start_time": "2025-10-31T17:30:20.749743Z"
    }
   },
   "cell_type": "code",
   "source": [
    "slice_arr[:] = -56\n",
    "slice_arr"
   ],
   "id": "de86a179a3d15bcd",
   "outputs": [
    {
     "data": {
      "text/plain": [
       "array([-56, -56, -56])"
      ]
     },
     "execution_count": 48,
     "metadata": {},
     "output_type": "execute_result"
    }
   ],
   "execution_count": 48
  },
  {
   "metadata": {
    "ExecuteTime": {
     "end_time": "2025-10-31T17:30:20.836141Z",
     "start_time": "2025-10-31T17:30:20.829720Z"
    }
   },
   "cell_type": "code",
   "source": "arr",
   "id": "da64fd8d77e51a7",
   "outputs": [
    {
     "data": {
      "text/plain": [
       "array([ 21,  21,  21,  21, -56, -56, -56,   7,   8,   9,  10])"
      ]
     },
     "execution_count": 49,
     "metadata": {},
     "output_type": "execute_result"
    }
   ],
   "execution_count": 49
  },
  {
   "metadata": {
    "ExecuteTime": {
     "end_time": "2025-10-31T17:31:16.233653Z",
     "start_time": "2025-10-31T17:31:16.204359Z"
    }
   },
   "cell_type": "code",
   "source": "arr_2d = np.random.randint(10, 99, (6, 7))",
   "id": "b4fdac1347279413",
   "outputs": [],
   "execution_count": 50
  },
  {
   "metadata": {
    "ExecuteTime": {
     "end_time": "2025-10-31T17:31:19.306541Z",
     "start_time": "2025-10-31T17:31:19.299947Z"
    }
   },
   "cell_type": "code",
   "source": "print(arr_2d)",
   "id": "ddf03f68a8eed892",
   "outputs": [
    {
     "name": "stdout",
     "output_type": "stream",
     "text": [
      "[[22 50 25 33 65 44 40]\n",
      " [89 66 11 95 59 79 58]\n",
      " [31 44 34 69 68 28 70]\n",
      " [96 35 44 89 60 44 59]\n",
      " [46 86 33 67 85 60 64]\n",
      " [89 75 70 32 88 10 86]]\n"
     ]
    }
   ],
   "execution_count": 51
  },
  {
   "metadata": {
    "ExecuteTime": {
     "end_time": "2025-10-31T17:32:00.856415Z",
     "start_time": "2025-10-31T17:32:00.846685Z"
    }
   },
   "cell_type": "code",
   "source": "arr_2d[0]",
   "id": "49baf69c68823e30",
   "outputs": [
    {
     "data": {
      "text/plain": [
       "array([22, 50, 25, 33, 65, 44, 40], dtype=int32)"
      ]
     },
     "execution_count": 52,
     "metadata": {},
     "output_type": "execute_result"
    }
   ],
   "execution_count": 52
  },
  {
   "metadata": {
    "ExecuteTime": {
     "end_time": "2025-10-31T17:32:51.924807Z",
     "start_time": "2025-10-31T17:32:51.917882Z"
    }
   },
   "cell_type": "code",
   "source": "arr_2d[2,3]",
   "id": "1566c0c14357b53c",
   "outputs": [
    {
     "data": {
      "text/plain": [
       "np.int32(69)"
      ]
     },
     "execution_count": 54,
     "metadata": {},
     "output_type": "execute_result"
    }
   ],
   "execution_count": 54
  },
  {
   "metadata": {
    "ExecuteTime": {
     "end_time": "2025-10-31T17:33:24.565659Z",
     "start_time": "2025-10-31T17:33:24.560159Z"
    }
   },
   "cell_type": "code",
   "source": "print(arr_2d[:3])",
   "id": "47561e5c074cbf9",
   "outputs": [
    {
     "name": "stdout",
     "output_type": "stream",
     "text": [
      "[[22 50 25 33 65 44 40]\n",
      " [89 66 11 95 59 79 58]\n",
      " [31 44 34 69 68 28 70]]\n"
     ]
    }
   ],
   "execution_count": 55
  },
  {
   "metadata": {
    "ExecuteTime": {
     "end_time": "2025-10-31T17:34:51.906827Z",
     "start_time": "2025-10-31T17:34:51.901329Z"
    }
   },
   "cell_type": "code",
   "source": "print(arr_2d)",
   "id": "675d3ec47cb594a6",
   "outputs": [
    {
     "name": "stdout",
     "output_type": "stream",
     "text": [
      "[[22 50 25 33 65 44 40]\n",
      " [89 66 11 95 59 79 58]\n",
      " [31 44 34 69 68 28 70]\n",
      " [96 35 44 89 60 44 59]\n",
      " [46 86 33 67 85 60 64]\n",
      " [89 75 70 32 88 10 86]]\n"
     ]
    }
   ],
   "execution_count": 56
  },
  {
   "metadata": {
    "ExecuteTime": {
     "end_time": "2025-10-31T17:35:30.127249Z",
     "start_time": "2025-10-31T17:35:30.122516Z"
    }
   },
   "cell_type": "code",
   "source": "print(arr_2d[:3, 2:])",
   "id": "e57eedd1d183e731",
   "outputs": [
    {
     "name": "stdout",
     "output_type": "stream",
     "text": [
      "[[25 33 65 44 40]\n",
      " [11 95 59 79 58]\n",
      " [34 69 68 28 70]]\n"
     ]
    }
   ],
   "execution_count": 57
  },
  {
   "metadata": {
    "ExecuteTime": {
     "end_time": "2025-10-31T17:36:43.544718Z",
     "start_time": "2025-10-31T17:36:43.537122Z"
    }
   },
   "cell_type": "code",
   "source": [
    "arr = np.random.randint(10, 99, 10)\n",
    "arr"
   ],
   "id": "26d1fb85ae74039d",
   "outputs": [
    {
     "data": {
      "text/plain": [
       "array([95, 68, 88, 29, 72, 62, 24, 98, 78, 19], dtype=int32)"
      ]
     },
     "execution_count": 58,
     "metadata": {},
     "output_type": "execute_result"
    }
   ],
   "execution_count": 58
  },
  {
   "metadata": {
    "ExecuteTime": {
     "end_time": "2025-10-31T17:38:11.025492Z",
     "start_time": "2025-10-31T17:38:11.017447Z"
    }
   },
   "cell_type": "code",
   "source": [
    "bool_arr = arr < 45\n",
    "bool_arr"
   ],
   "id": "74578013dc01928d",
   "outputs": [
    {
     "data": {
      "text/plain": [
       "array([False, False, False,  True, False, False,  True, False, False,\n",
       "        True])"
      ]
     },
     "execution_count": 61,
     "metadata": {},
     "output_type": "execute_result"
    }
   ],
   "execution_count": 61
  },
  {
   "metadata": {
    "ExecuteTime": {
     "end_time": "2025-10-31T17:38:29.633275Z",
     "start_time": "2025-10-31T17:38:29.625970Z"
    }
   },
   "cell_type": "code",
   "source": "arr[bool_arr]",
   "id": "6a1c23ce08b6bad1",
   "outputs": [
    {
     "data": {
      "text/plain": [
       "array([29, 24, 19], dtype=int32)"
      ]
     },
     "execution_count": 62,
     "metadata": {},
     "output_type": "execute_result"
    }
   ],
   "execution_count": 62
  },
  {
   "metadata": {
    "ExecuteTime": {
     "end_time": "2025-10-31T17:40:32.740619Z",
     "start_time": "2025-10-31T17:40:32.732972Z"
    }
   },
   "cell_type": "code",
   "source": [
    "arr[bool_arr] = -50\n",
    "arr"
   ],
   "id": "c3c7802f3bc14806",
   "outputs": [
    {
     "data": {
      "text/plain": [
       "array([-50,  68, -50, -50,  72,  62, -50, -50,  78, -50], dtype=int32)"
      ]
     },
     "execution_count": 66,
     "metadata": {},
     "output_type": "execute_result"
    }
   ],
   "execution_count": 66
  },
  {
   "metadata": {},
   "cell_type": "code",
   "outputs": [],
   "execution_count": null,
   "source": "",
   "id": "cc1636b09ac3503f"
  }
 ],
 "metadata": {
  "kernelspec": {
   "display_name": "Python 3",
   "language": "python",
   "name": "python3"
  },
  "language_info": {
   "codemirror_mode": {
    "name": "ipython",
    "version": 2
   },
   "file_extension": ".py",
   "mimetype": "text/x-python",
   "name": "python",
   "nbconvert_exporter": "python",
   "pygments_lexer": "ipython2",
   "version": "2.7.6"
  }
 },
 "nbformat": 4,
 "nbformat_minor": 5
}
