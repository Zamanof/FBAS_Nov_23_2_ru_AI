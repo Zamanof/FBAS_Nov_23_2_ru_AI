{
 "cells": [
  {
   "cell_type": "code",
   "id": "initial_id",
   "metadata": {
    "collapsed": true,
    "ExecuteTime": {
     "end_time": "2025-10-31T17:41:38.699932Z",
     "start_time": "2025-10-31T17:41:38.592984Z"
    }
   },
   "source": "import numpy as np",
   "outputs": [],
   "execution_count": 1
  },
  {
   "metadata": {
    "ExecuteTime": {
     "end_time": "2025-10-31T17:42:05.955536Z",
     "start_time": "2025-10-31T17:42:05.943897Z"
    }
   },
   "cell_type": "code",
   "source": [
    "arr = np.random.randint(10, 99, 10)\n",
    "arr"
   ],
   "id": "af83fc7d54cdff9d",
   "outputs": [
    {
     "data": {
      "text/plain": [
       "array([32, 37, 90, 47, 75, 39, 61, 80, 90, 80], dtype=int32)"
      ]
     },
     "execution_count": 3,
     "metadata": {},
     "output_type": "execute_result"
    }
   ],
   "execution_count": 3
  },
  {
   "metadata": {
    "ExecuteTime": {
     "end_time": "2025-10-31T17:42:25.939851Z",
     "start_time": "2025-10-31T17:42:25.931306Z"
    }
   },
   "cell_type": "code",
   "source": "arr + 10",
   "id": "775cccd93e9a572f",
   "outputs": [
    {
     "data": {
      "text/plain": [
       "array([ 42,  47, 100,  57,  85,  49,  71,  90, 100,  90], dtype=int32)"
      ]
     },
     "execution_count": 4,
     "metadata": {},
     "output_type": "execute_result"
    }
   ],
   "execution_count": 4
  },
  {
   "metadata": {
    "ExecuteTime": {
     "end_time": "2025-10-31T17:42:44.415849Z",
     "start_time": "2025-10-31T17:42:44.409945Z"
    }
   },
   "cell_type": "code",
   "source": "arr - 2",
   "id": "5fbdb3ef14ccf2a0",
   "outputs": [
    {
     "data": {
      "text/plain": [
       "array([30, 35, 88, 45, 73, 37, 59, 78, 88, 78], dtype=int32)"
      ]
     },
     "execution_count": 5,
     "metadata": {},
     "output_type": "execute_result"
    }
   ],
   "execution_count": 5
  },
  {
   "metadata": {
    "ExecuteTime": {
     "end_time": "2025-10-31T17:43:08.936669Z",
     "start_time": "2025-10-31T17:43:08.929044Z"
    }
   },
   "cell_type": "code",
   "source": "arr + arr",
   "id": "9206b18cbb9fcf21",
   "outputs": [
    {
     "data": {
      "text/plain": [
       "array([ 64,  74, 180,  94, 150,  78, 122, 160, 180, 160], dtype=int32)"
      ]
     },
     "execution_count": 6,
     "metadata": {},
     "output_type": "execute_result"
    }
   ],
   "execution_count": 6
  },
  {
   "metadata": {
    "ExecuteTime": {
     "end_time": "2025-10-31T17:43:40.634433Z",
     "start_time": "2025-10-31T17:43:40.629469Z"
    }
   },
   "cell_type": "code",
   "source": "arr * arr",
   "id": "90d153b9a809a71a",
   "outputs": [
    {
     "data": {
      "text/plain": [
       "array([1024, 1369, 8100, 2209, 5625, 1521, 3721, 6400, 8100, 6400],\n",
       "      dtype=int32)"
      ]
     },
     "execution_count": 7,
     "metadata": {},
     "output_type": "execute_result"
    }
   ],
   "execution_count": 7
  },
  {
   "metadata": {
    "ExecuteTime": {
     "end_time": "2025-10-31T17:44:17.794947Z",
     "start_time": "2025-10-31T17:44:17.787414Z"
    }
   },
   "cell_type": "code",
   "source": "arr / arr",
   "id": "ab32dee64534045b",
   "outputs": [
    {
     "data": {
      "text/plain": [
       "array([1., 1., 1., 1., 1., 1., 1., 1., 1., 1.])"
      ]
     },
     "execution_count": 9,
     "metadata": {},
     "output_type": "execute_result"
    }
   ],
   "execution_count": 9
  },
  {
   "metadata": {
    "ExecuteTime": {
     "end_time": "2025-10-31T17:44:43.268766Z",
     "start_time": "2025-10-31T17:44:43.261863Z"
    }
   },
   "cell_type": "code",
   "source": "2/arr",
   "id": "61de90154aab4f4e",
   "outputs": [
    {
     "data": {
      "text/plain": [
       "array([0.0625    , 0.05405405, 0.02222222, 0.04255319, 0.02666667,\n",
       "       0.05128205, 0.03278689, 0.025     , 0.02222222, 0.025     ])"
      ]
     },
     "execution_count": 10,
     "metadata": {},
     "output_type": "execute_result"
    }
   ],
   "execution_count": 10
  },
  {
   "metadata": {
    "ExecuteTime": {
     "end_time": "2025-10-31T17:45:07.451595Z",
     "start_time": "2025-10-31T17:45:07.442483Z"
    }
   },
   "cell_type": "code",
   "source": "np.sqrt(arr)",
   "id": "feff8314eafc84a8",
   "outputs": [
    {
     "data": {
      "text/plain": [
       "array([5.65685425, 6.08276253, 9.48683298, 6.8556546 , 8.66025404,\n",
       "       6.244998  , 7.81024968, 8.94427191, 9.48683298, 8.94427191])"
      ]
     },
     "execution_count": 11,
     "metadata": {},
     "output_type": "execute_result"
    }
   ],
   "execution_count": 11
  },
  {
   "metadata": {
    "ExecuteTime": {
     "end_time": "2025-10-31T17:45:30.342566Z",
     "start_time": "2025-10-31T17:45:30.334898Z"
    }
   },
   "cell_type": "code",
   "source": "np.sin(arr)",
   "id": "445be70ee2eb38f0",
   "outputs": [
    {
     "data": {
      "text/plain": [
       "array([ 0.55142668, -0.64353813,  0.89399666,  0.12357312, -0.38778164,\n",
       "        0.96379539, -0.96611777, -0.99388865,  0.89399666, -0.99388865])"
      ]
     },
     "execution_count": 12,
     "metadata": {},
     "output_type": "execute_result"
    }
   ],
   "execution_count": 12
  },
  {
   "metadata": {
    "ExecuteTime": {
     "end_time": "2025-10-31T17:45:57.259038Z",
     "start_time": "2025-10-31T17:45:57.250914Z"
    }
   },
   "cell_type": "code",
   "source": "np.log(arr)",
   "id": "19a07048ee2f76",
   "outputs": [
    {
     "data": {
      "text/plain": [
       "array([3.4657359 , 3.61091791, 4.49980967, 3.8501476 , 4.31748811,\n",
       "       3.66356165, 4.11087386, 4.38202663, 4.49980967, 4.38202663])"
      ]
     },
     "execution_count": 13,
     "metadata": {},
     "output_type": "execute_result"
    }
   ],
   "execution_count": 13
  },
  {
   "metadata": {
    "ExecuteTime": {
     "end_time": "2025-10-31T17:46:29.798282Z",
     "start_time": "2025-10-31T17:46:29.791283Z"
    }
   },
   "cell_type": "code",
   "source": "arr.sum()",
   "id": "e822f62221bdef2f",
   "outputs": [
    {
     "data": {
      "text/plain": [
       "np.int64(631)"
      ]
     },
     "execution_count": 14,
     "metadata": {},
     "output_type": "execute_result"
    }
   ],
   "execution_count": 14
  },
  {
   "metadata": {
    "ExecuteTime": {
     "end_time": "2025-10-31T17:46:47.885773Z",
     "start_time": "2025-10-31T17:46:47.880871Z"
    }
   },
   "cell_type": "code",
   "source": "arr.mean()",
   "id": "2e19c29363135704",
   "outputs": [
    {
     "data": {
      "text/plain": [
       "np.float64(63.1)"
      ]
     },
     "execution_count": 15,
     "metadata": {},
     "output_type": "execute_result"
    }
   ],
   "execution_count": 15
  },
  {
   "metadata": {
    "ExecuteTime": {
     "end_time": "2025-10-31T17:47:03.767814Z",
     "start_time": "2025-10-31T17:47:03.761872Z"
    }
   },
   "cell_type": "code",
   "source": "arr.var()",
   "id": "c6ec29bb2c573b0e",
   "outputs": [
    {
     "data": {
      "text/plain": [
       "np.float64(465.28999999999996)"
      ]
     },
     "execution_count": 16,
     "metadata": {},
     "output_type": "execute_result"
    }
   ],
   "execution_count": 16
  },
  {
   "metadata": {
    "ExecuteTime": {
     "end_time": "2025-10-31T17:47:16.429713Z",
     "start_time": "2025-10-31T17:47:16.421999Z"
    }
   },
   "cell_type": "code",
   "source": "arr.std()",
   "id": "76d29ca004994a9e",
   "outputs": [
    {
     "data": {
      "text/plain": [
       "np.float64(21.570581818764182)"
      ]
     },
     "execution_count": 17,
     "metadata": {},
     "output_type": "execute_result"
    }
   ],
   "execution_count": 17
  },
  {
   "metadata": {},
   "cell_type": "markdown",
   "source": "[numpy site](https://numpy.org/doc/stable/user/absolute_beginners.html)",
   "id": "9173960bcfb4bf8e"
  },
  {
   "metadata": {},
   "cell_type": "code",
   "outputs": [],
   "execution_count": null,
   "source": "",
   "id": "92f8b81d1ec30755"
  }
 ],
 "metadata": {
  "kernelspec": {
   "display_name": "Python 3",
   "language": "python",
   "name": "python3"
  },
  "language_info": {
   "codemirror_mode": {
    "name": "ipython",
    "version": 2
   },
   "file_extension": ".py",
   "mimetype": "text/x-python",
   "name": "python",
   "nbconvert_exporter": "python",
   "pygments_lexer": "ipython2",
   "version": "2.7.6"
  }
 },
 "nbformat": 4,
 "nbformat_minor": 5
}
