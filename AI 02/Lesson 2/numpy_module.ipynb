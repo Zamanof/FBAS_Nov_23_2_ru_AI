{
 "cells": [
  {
   "cell_type": "code",
   "execution_count": 1,
   "id": "initial_id",
   "metadata": {
    "ExecuteTime": {
     "end_time": "2025-10-31T16:13:33.696446Z",
     "start_time": "2025-10-31T16:13:33.573708Z"
    },
    "collapsed": true,
    "jupyter": {
     "outputs_hidden": true
    }
   },
   "outputs": [],
   "source": [
    "import numpy as np"
   ]
  },
  {
   "cell_type": "code",
   "execution_count": 2,
   "id": "4d29d62bc38441ad",
   "metadata": {
    "ExecuteTime": {
     "end_time": "2025-10-31T16:14:53.498186Z",
     "start_time": "2025-10-31T16:14:53.488926Z"
    }
   },
   "outputs": [
    {
     "data": {
      "text/plain": [
       "list"
      ]
     },
     "execution_count": 2,
     "metadata": {},
     "output_type": "execute_result"
    }
   ],
   "source": [
    "mylist = [25, 78, 7]\n",
    "type(mylist)"
   ]
  },
  {
   "cell_type": "code",
   "execution_count": 3,
   "id": "e62fec100344e5cc",
   "metadata": {
    "ExecuteTime": {
     "end_time": "2025-10-31T16:15:14.051674Z",
     "start_time": "2025-10-31T16:15:14.041313Z"
    }
   },
   "outputs": [
    {
     "data": {
      "text/plain": [
       "array([25, 78,  7])"
      ]
     },
     "execution_count": 3,
     "metadata": {},
     "output_type": "execute_result"
    }
   ],
   "source": [
    "np.array(mylist)"
   ]
  },
  {
   "cell_type": "code",
   "execution_count": 4,
   "id": "d93613a8c4d1b514",
   "metadata": {
    "ExecuteTime": {
     "end_time": "2025-10-31T16:15:43.426466Z",
     "start_time": "2025-10-31T16:15:43.421918Z"
    }
   },
   "outputs": [],
   "source": [
    "my_array = np.array(mylist)"
   ]
  },
  {
   "cell_type": "code",
   "execution_count": 6,
   "id": "e579359718a239c1",
   "metadata": {
    "ExecuteTime": {
     "end_time": "2025-10-31T16:16:01.039084Z",
     "start_time": "2025-10-31T16:16:01.032662Z"
    }
   },
   "outputs": [
    {
     "data": {
      "text/plain": [
       "numpy.ndarray"
      ]
     },
     "execution_count": 6,
     "metadata": {},
     "output_type": "execute_result"
    }
   ],
   "source": [
    "type(my_array)"
   ]
  },
  {
   "cell_type": "code",
   "execution_count": 7,
   "id": "5f4aca4c7b9bb8b8",
   "metadata": {
    "ExecuteTime": {
     "end_time": "2025-10-31T16:17:21.502467Z",
     "start_time": "2025-10-31T16:17:21.494981Z"
    }
   },
   "outputs": [
    {
     "data": {
      "text/plain": [
       "list"
      ]
     },
     "execution_count": 7,
     "metadata": {},
     "output_type": "execute_result"
    }
   ],
   "source": [
    "my_matrix = [[25, 96, 20],[56, 98, 45],[36, 77, 91]]\n",
    "type(my_matrix)"
   ]
  },
  {
   "cell_type": "code",
   "execution_count": 8,
   "id": "4c012b10b41ddd85",
   "metadata": {
    "ExecuteTime": {
     "end_time": "2025-10-31T16:17:57.974549Z",
     "start_time": "2025-10-31T16:17:57.967793Z"
    }
   },
   "outputs": [
    {
     "data": {
      "text/plain": [
       "array([ 0,  1,  2,  3,  4,  5,  6,  7,  8,  9, 10, 11, 12, 13, 14, 15, 16,\n",
       "       17, 18, 19])"
      ]
     },
     "execution_count": 8,
     "metadata": {},
     "output_type": "execute_result"
    }
   ],
   "source": [
    "np.arange(0, 20)"
   ]
  },
  {
   "cell_type": "code",
   "execution_count": 11,
   "id": "8f70d1f50ed7b288",
   "metadata": {
    "ExecuteTime": {
     "end_time": "2025-10-31T16:19:13.351336Z",
     "start_time": "2025-10-31T16:19:13.344044Z"
    }
   },
   "outputs": [
    {
     "data": {
      "text/plain": [
       "array([[25, 96, 20],\n",
       "       [56, 98, 45],\n",
       "       [36, 77, 91]])"
      ]
     },
     "execution_count": 11,
     "metadata": {},
     "output_type": "execute_result"
    }
   ],
   "source": [
    "np.array(my_matrix)\n"
   ]
  },
  {
   "cell_type": "code",
   "execution_count": null,
   "id": "b896c1282ee0aed6",
   "metadata": {},
   "outputs": [],
   "source": []
  }
 ],
 "metadata": {
  "kernelspec": {
   "display_name": "Python 3 (ipykernel)",
   "language": "python",
   "name": "python3"
  },
  "language_info": {
   "codemirror_mode": {
    "name": "ipython",
    "version": 3
   },
   "file_extension": ".py",
   "mimetype": "text/x-python",
   "name": "python",
   "nbconvert_exporter": "python",
   "pygments_lexer": "ipython3",
   "version": "3.12.8"
  }
 },
 "nbformat": 4,
 "nbformat_minor": 5
}
